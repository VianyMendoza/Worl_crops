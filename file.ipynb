{
 "cells": [
  {
   "cell_type": "code",
   "execution_count": 13,
   "metadata": {},
   "outputs": [],
   "source": [
    "from sqlalchemy import create_engine\n",
    "import pandas as pd\n",
    "import psycopg2\n",
    "\n",
    "#DATOS DE CONEXIÓN\n",
    "DATABASE_TYPE = 'postgresql'\n",
    "DBAPI = 'psycopg2'\n",
    "USER = 'postgres'\n",
    "PASSWORD = 'PSTG#2526'\n",
    "HOST = 'localhost'\n",
    "PORT = '5432'\n",
    "DATABASE = 'proyecto_etl'\n",
    "\n",
    "#CADENA DE CONEXION GENERAL, SE DEBEN INSTALAR DIALECT(gestor ddbb)+DRIVER(librería Python)://\n",
    "connection_string = f\"{DATABASE_TYPE}+{DBAPI}://{USER}:{PASSWORD}@{HOST}:{PORT}/{DATABASE}\""
   ]
  },
  {
   "cell_type": "code",
   "execution_count": 14,
   "metadata": {},
   "outputs": [],
   "source": [
    "#CREA LA CONEXIÓN\n",
    "engine = create_engine(connection_string)"
   ]
  },
  {
   "cell_type": "code",
   "execution_count": 28,
   "metadata": {},
   "outputs": [
    {
     "name": "stdout",
     "output_type": "stream",
     "text": [
      "Error: la relación «crops» ya existe\n",
      "\n"
     ]
    }
   ],
   "source": [
    "#CREAR TABLA CROPS\n",
    "with open('sql_files/1_create_crops.sql', 'r') as file:\n",
    "    sql_query = file.read()\n",
    "\n",
    "try:\n",
    "    conn = psycopg2.connect(\n",
    "            dbname=DATABASE,\n",
    "            user=USER,\n",
    "            password=PASSWORD,\n",
    "            host=HOST,\n",
    "            port=PORT\n",
    "        )\n",
    "    cur = conn.cursor()\n",
    "    cur.execute(sql_query)\n",
    "    conn.commit()\n",
    "    conn.close()\n",
    "    cur.close()\n",
    "    print(\"Tabla creada exitósamente\")\n",
    "except Exception as e:\n",
    "    print(f\"Error: {e}\")"
   ]
  },
  {
   "cell_type": "code",
   "execution_count": 6,
   "metadata": {},
   "outputs": [
    {
     "name": "stdout",
     "output_type": "stream",
     "text": [
      "Tabla creada exitósamente\n"
     ]
    }
   ],
   "source": [
    "#CREAR TABLA UNIDADES\n",
    "with open('sql_files/9_create_units.sql', 'r') as file:\n",
    "    sql_query = file.read()\n",
    "\n",
    "try:\n",
    "    conn = psycopg2.connect(\n",
    "            dbname=DATABASE,\n",
    "            user=USER,\n",
    "            password=PASSWORD,\n",
    "            host=HOST,\n",
    "            port=PORT\n",
    "        )\n",
    "    cur = conn.cursor()\n",
    "    cur.execute(sql_query)\n",
    "    conn.commit()\n",
    "    conn.close()\n",
    "    cur.close()\n",
    "    print(\"Tabla creada exitósamente\")\n",
    "except Exception as e:\n",
    "    print(f\"Error: {e}\")"
   ]
  },
  {
   "cell_type": "code",
   "execution_count": 29,
   "metadata": {},
   "outputs": [
    {
     "name": "stdout",
     "output_type": "stream",
     "text": [
      "Error: la relación «items» ya existe\n",
      "\n"
     ]
    }
   ],
   "source": [
    "#CREAR TABLA ITEMS\n",
    "with open('sql_files/3_create_items.sql', 'r') as file:\n",
    "    sql_query = file.read()\n",
    "\n",
    "try:\n",
    "    conn = psycopg2.connect(\n",
    "            dbname=DATABASE,\n",
    "            user=USER,\n",
    "            password=PASSWORD,\n",
    "            host=HOST,\n",
    "            port=PORT\n",
    "        )\n",
    "    cur = conn.cursor()\n",
    "    cur.execute(sql_query)\n",
    "    conn.commit()\n",
    "    conn.close()\n",
    "    cur.close()\n",
    "    print(\"Tabla creada exitósamente\")\n",
    "except Exception as e:\n",
    "    print(f\"Error: {e}\")"
   ]
  },
  {
   "cell_type": "code",
   "execution_count": 30,
   "metadata": {},
   "outputs": [
    {
     "name": "stdout",
     "output_type": "stream",
     "text": [
      "Error: la relación «elements» ya existe\n",
      "\n"
     ]
    }
   ],
   "source": [
    "#CREAR TABLA ELEMENTS\n",
    "with open('sql_files/5_create_elements.sql', 'r') as file:\n",
    "    sql_query = file.read()\n",
    "\n",
    "try:\n",
    "    conn = psycopg2.connect(\n",
    "            dbname=DATABASE,\n",
    "            user=USER,\n",
    "            password=PASSWORD,\n",
    "            host=HOST,\n",
    "            port=PORT\n",
    "        )\n",
    "    cur = conn.cursor()\n",
    "    cur.execute(sql_query)\n",
    "    conn.commit()\n",
    "    conn.close()\n",
    "    cur.close()\n",
    "    print(\"Tabla creada exitósamente\")\n",
    "except Exception as e:\n",
    "    print(f\"Error: {e}\")"
   ]
  },
  {
   "cell_type": "code",
   "execution_count": 31,
   "metadata": {},
   "outputs": [
    {
     "name": "stdout",
     "output_type": "stream",
     "text": [
      "Error: la relación «flags» ya existe\n",
      "\n"
     ]
    }
   ],
   "source": [
    "#CREAR TABLA FLAGS\n",
    "with open('sql_files/7_create_flags.sql', 'r') as file:\n",
    "    sql_query = file.read()\n",
    "\n",
    "try:\n",
    "    conn = psycopg2.connect(\n",
    "            dbname=DATABASE,\n",
    "            user=USER,\n",
    "            password=PASSWORD,\n",
    "            host=HOST,\n",
    "            port=PORT\n",
    "        )\n",
    "    cur = conn.cursor()\n",
    "    cur.execute(sql_query)\n",
    "    conn.commit()\n",
    "    conn.close()\n",
    "    cur.close()\n",
    "    print(\"Tabla creada exitósamente\")\n",
    "except Exception as e:\n",
    "    print(f\"Error: {e}\")"
   ]
  },
  {
   "cell_type": "code",
   "execution_count": 18,
   "metadata": {},
   "outputs": [
    {
     "name": "stdout",
     "output_type": "stream",
     "text": [
      "{'encoding': 'utf-8', 'confidence': 0.99, 'language': ''}\n"
     ]
    }
   ],
   "source": [
    "import chardet\n",
    "\n",
    "#IDENTIFICAR CODIFICACIÓN DE UN ARCHIVO PARA CONFIGURAR INSERT\n",
    "with open('sql_files/2_insert_crops.sql', 'rb') as file:\n",
    "    result = chardet.detect(file.read())\n",
    "\n",
    "print(result)"
   ]
  },
  {
   "cell_type": "code",
   "execution_count": 7,
   "metadata": {},
   "outputs": [
    {
     "name": "stdout",
     "output_type": "stream",
     "text": [
      "Tabla creada exitósamente\n"
     ]
    }
   ],
   "source": [
    "#INSERT TABLA UNIDADES\n",
    "with open('sql_files/10_insert_units.sql', 'r') as file:\n",
    "    sql_query = file.read()\n",
    "\n",
    "try:\n",
    "    conn = psycopg2.connect(\n",
    "            dbname=DATABASE,\n",
    "            user=USER,\n",
    "            password=PASSWORD,\n",
    "            host=HOST,\n",
    "            port=PORT\n",
    "        )\n",
    "    cur = conn.cursor()\n",
    "    cur.execute(sql_query)\n",
    "    conn.commit()\n",
    "    conn.close()\n",
    "    cur.close()\n",
    "    print(\"Tabla creada exitósamente\")\n",
    "except Exception as e:\n",
    "    print(f\"Error: {e}\")"
   ]
  },
  {
   "cell_type": "code",
   "execution_count": 40,
   "metadata": {},
   "outputs": [
    {
     "name": "stdout",
     "output_type": "stream",
     "text": [
      "Tabla creada exitósamente\n"
     ]
    }
   ],
   "source": [
    "#INSERT TABLA ITEMS\n",
    "with open('sql_files/4_insert_items.sql', 'r', encoding='utf-8') as file:\n",
    "    sql_query = file.read()\n",
    "\n",
    "try:\n",
    "    conn = psycopg2.connect(\n",
    "            dbname=DATABASE,\n",
    "            user=USER,\n",
    "            password=PASSWORD,\n",
    "            host=HOST,\n",
    "            port=PORT\n",
    "        )\n",
    "    cur = conn.cursor()\n",
    "    cur.execute(sql_query)\n",
    "    conn.commit()\n",
    "    conn.close()\n",
    "    cur.close()\n",
    "    print(\"Tabla creada exitósamente\")\n",
    "except Exception as e:\n",
    "    print(f\"Error: {e}\")"
   ]
  },
  {
   "cell_type": "code",
   "execution_count": 42,
   "metadata": {},
   "outputs": [
    {
     "name": "stdout",
     "output_type": "stream",
     "text": [
      "Tabla creada exitósamente\n"
     ]
    }
   ],
   "source": [
    "#INSERT TABLA FLAGS\n",
    "with open('sql_files/8_insert_flags.sql', 'r', encoding='utf-8') as file:\n",
    "    sql_query = file.read()\n",
    "\n",
    "try:\n",
    "    conn = psycopg2.connect(\n",
    "            dbname=DATABASE,\n",
    "            user=USER,\n",
    "            password=PASSWORD,\n",
    "            host=HOST,\n",
    "            port=PORT\n",
    "        )\n",
    "    cur = conn.cursor()\n",
    "    cur.execute(sql_query)\n",
    "    conn.commit()\n",
    "    conn.close()\n",
    "    cur.close()\n",
    "    print(\"Tabla creada exitósamente\")\n",
    "except Exception as e:\n",
    "    print(f\"Error: {e}\")"
   ]
  },
  {
   "cell_type": "code",
   "execution_count": 45,
   "metadata": {},
   "outputs": [
    {
     "name": "stdout",
     "output_type": "stream",
     "text": [
      "Tabla creada exitósamente\n"
     ]
    }
   ],
   "source": [
    "#INSERT TABLA CROPS\n",
    "with open('sql_files/2_insert_crops.sql', 'r', encoding='utf-8') as file:\n",
    "    sql_query = file.read()\n",
    "\n",
    "try:\n",
    "    conn = psycopg2.connect(\n",
    "            dbname=DATABASE,\n",
    "            user=USER,\n",
    "            password=PASSWORD,\n",
    "            host=HOST,\n",
    "            port=PORT\n",
    "        )\n",
    "    cur = conn.cursor()\n",
    "    cur.execute(sql_query)\n",
    "    conn.commit()\n",
    "    conn.close()\n",
    "    cur.close()\n",
    "    print(\"Tabla creada exitósamente\")\n",
    "except Exception as e:\n",
    "    print(f\"Error: {e}\")"
   ]
  },
  {
   "cell_type": "code",
   "execution_count": 15,
   "metadata": {},
   "outputs": [
    {
     "name": "stdout",
     "output_type": "stream",
     "text": [
      "   id_interno  area_code     area  item_code                 item  \\\n",
      "0           1          4  Algeria        221  Almonds, with shell   \n",
      "1           2          4  Algeria        221  Almonds, with shell   \n",
      "2           3          4  Algeria        221  Almonds, with shell   \n",
      "3           4          4  Algeria        515               Apples   \n",
      "4           5          4  Algeria        515               Apples   \n",
      "5           6          4  Algeria        515               Apples   \n",
      "6           7          4  Algeria        526             Apricots   \n",
      "7           8          4  Algeria        526             Apricots   \n",
      "8           9          4  Algeria        526             Apricots   \n",
      "9          10          4  Algeria        366           Artichokes   \n",
      "\n",
      "   element_code         element    unit  y1961  y1962  ...   y2011   y2012  \\\n",
      "0          5312  Area harvested      ha  13300  13300  ...   52245   49975   \n",
      "1          5419           Yield   hg/ha   4511   4511  ...    9689   13304   \n",
      "2          5510      Production  tonnes   6000   6000  ...   50621   66487   \n",
      "3          5312  Area harvested      ha   3400   3100  ...   51080   48828   \n",
      "4          5419           Yield   hg/ha  45294  45161  ...   79112   81414   \n",
      "5          5510      Production  tonnes  15400  14000  ...  404105  397529   \n",
      "6          5312  Area harvested      ha   4200   4600  ...   49191   47376   \n",
      "7          5419           Yield   hg/ha  30286  30000  ...   58120   56845   \n",
      "8          5510      Production  tonnes  12720  13800  ...  285897  269308   \n",
      "9          5312  Area harvested      ha   5000   5000  ...    3760    4168   \n",
      "\n",
      "    y2013   y2014   y2015   y2016   y2017   y2018   y2019  continente  \n",
      "0   49011   39050   40403   49983   50100   43043   35380      África  \n",
      "1   12965   16601   18930   13223   12362   13292   20467      África  \n",
      "2   63545   64827   76482   66095   61934   57213   72412      África  \n",
      "3   48064   40418   41011   46070   44620   39034   32989      África  \n",
      "4   94860  114507  110086  108716  110766  124970  169399      África  \n",
      "5  455937  462815  451472  500855  494239  487808  558830      África  \n",
      "6   46893   38590   38857   38239   44307   35500   30861      África  \n",
      "7   68194   56217   75530   67149   57980   68237   67789      África  \n",
      "8  319784  216941  293486  256771  256890  242243  209204      África  \n",
      "9    4472    4705    4674    5174    5532    5784    5792      África  \n",
      "\n",
      "[10 rows x 68 columns]\n"
     ]
    }
   ],
   "source": [
    "#CONVIERTE LA CONEXIÓN A LA DB EN UN DATA FRAME\n",
    "with engine.connect() as connection:\n",
    "    query = \"SELECT * FROM crops\"\n",
    "    df_crops = pd.read_sql(query, connection)\n",
    "    print(df_crops.head(10))"
   ]
  }
 ],
 "metadata": {
  "kernelspec": {
   "display_name": "Python 3",
   "language": "python",
   "name": "python3"
  },
  "language_info": {
   "codemirror_mode": {
    "name": "ipython",
    "version": 3
   },
   "file_extension": ".py",
   "mimetype": "text/x-python",
   "name": "python",
   "nbconvert_exporter": "python",
   "pygments_lexer": "ipython3",
   "version": "3.12.3"
  }
 },
 "nbformat": 4,
 "nbformat_minor": 2
}
