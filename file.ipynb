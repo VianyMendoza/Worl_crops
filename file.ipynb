{
 "cells": [
  {
   "cell_type": "code",
   "execution_count": 2,
   "metadata": {},
   "outputs": [],
   "source": [
    "from sqlalchemy import create_engine\n",
    "import pandas as pd\n",
    "import psycopg2\n",
    "\n",
    "#REEMPLAZA USERNAME PASSWORD LOCALHOST PORT Y DBNAMAE\n",
    "DATABASE_TYPE = 'postgresql'\n",
    "DBAPI = 'psycopg2'\n",
    "USER = 'postgres'\n",
    "PASSWORD = 'PSTG#2526'\n",
    "HOST = 'localhost'\n",
    "PORT = '5432'\n",
    "DATABASE = 'proyecto_etl'\n",
    "\n",
    "#CADENA DE CONEXION GENERAL, SE DEBEN INSTALAR DIALECT(gestor ddbb)+DRIVER(librería Python)://\n",
    "connection_string = f\"{DATABASE_TYPE}+{DBAPI}://{USER}:{PASSWORD}@{HOST}:{PORT}/{DATABASE}\""
   ]
  },
  {
   "cell_type": "code",
   "execution_count": 3,
   "metadata": {},
   "outputs": [],
   "source": [
    "#CREA LA CONEXIÓN\n",
    "engine = create_engine(connection_string)"
   ]
  },
  {
   "cell_type": "code",
   "execution_count": 28,
   "metadata": {},
   "outputs": [
    {
     "name": "stdout",
     "output_type": "stream",
     "text": [
      "Error: la relación «crops» ya existe\n",
      "\n"
     ]
    }
   ],
   "source": [
    "#CREAR TABLA CROPS\n",
    "with open('sql_files/1_create_crops.sql', 'r') as file:\n",
    "    sql_query = file.read()\n",
    "\n",
    "try:\n",
    "    conn = psycopg2.connect(\n",
    "            dbname=DATABASE,\n",
    "            user=USER,\n",
    "            password=PASSWORD,\n",
    "            host=HOST,\n",
    "            port=PORT\n",
    "        )\n",
    "    cur = conn.cursor()\n",
    "    cur.execute(sql_query)\n",
    "    conn.commit()\n",
    "    conn.close()\n",
    "    cur.close()\n",
    "    print(\"Tabla creada exitósamente\")\n",
    "except Exception as e:\n",
    "    print(f\"Error: {e}\")"
   ]
  },
  {
   "cell_type": "code",
   "execution_count": 6,
   "metadata": {},
   "outputs": [
    {
     "name": "stdout",
     "output_type": "stream",
     "text": [
      "Tabla creada exitósamente\n"
     ]
    }
   ],
   "source": [
    "#CREAR TABLA UNIDADES\n",
    "with open('sql_files/9_create_units.sql', 'r') as file:\n",
    "    sql_query = file.read()\n",
    "\n",
    "try:\n",
    "    conn = psycopg2.connect(\n",
    "            dbname=DATABASE,\n",
    "            user=USER,\n",
    "            password=PASSWORD,\n",
    "            host=HOST,\n",
    "            port=PORT\n",
    "        )\n",
    "    cur = conn.cursor()\n",
    "    cur.execute(sql_query)\n",
    "    conn.commit()\n",
    "    conn.close()\n",
    "    cur.close()\n",
    "    print(\"Tabla creada exitósamente\")\n",
    "except Exception as e:\n",
    "    print(f\"Error: {e}\")"
   ]
  },
  {
   "cell_type": "code",
   "execution_count": 7,
   "metadata": {},
   "outputs": [
    {
     "name": "stdout",
     "output_type": "stream",
     "text": [
      "Tabla creada exitósamente\n"
     ]
    }
   ],
   "source": [
    "#INSER TABLA UNIDADES\n",
    "with open('sql_files/10_insert_units.sql', 'r') as file:\n",
    "    sql_query = file.read()\n",
    "\n",
    "try:\n",
    "    conn = psycopg2.connect(\n",
    "            dbname=DATABASE,\n",
    "            user=USER,\n",
    "            password=PASSWORD,\n",
    "            host=HOST,\n",
    "            port=PORT\n",
    "        )\n",
    "    cur = conn.cursor()\n",
    "    cur.execute(sql_query)\n",
    "    conn.commit()\n",
    "    conn.close()\n",
    "    cur.close()\n",
    "    print(\"Tabla creada exitósamente\")\n",
    "except Exception as e:\n",
    "    print(f\"Error: {e}\")"
   ]
  },
  {
   "cell_type": "code",
   "execution_count": 29,
   "metadata": {},
   "outputs": [
    {
     "name": "stdout",
     "output_type": "stream",
     "text": [
      "Error: la relación «items» ya existe\n",
      "\n"
     ]
    }
   ],
   "source": [
    "#CREAR TABLA ITEMS\n",
    "with open('sql_files/3_create_items.sql', 'r') as file:\n",
    "    sql_query = file.read()\n",
    "\n",
    "try:\n",
    "    conn = psycopg2.connect(\n",
    "            dbname=DATABASE,\n",
    "            user=USER,\n",
    "            password=PASSWORD,\n",
    "            host=HOST,\n",
    "            port=PORT\n",
    "        )\n",
    "    cur = conn.cursor()\n",
    "    cur.execute(sql_query)\n",
    "    conn.commit()\n",
    "    conn.close()\n",
    "    cur.close()\n",
    "    print(\"Tabla creada exitósamente\")\n",
    "except Exception as e:\n",
    "    print(f\"Error: {e}\")"
   ]
  },
  {
   "cell_type": "code",
   "execution_count": 30,
   "metadata": {},
   "outputs": [
    {
     "name": "stdout",
     "output_type": "stream",
     "text": [
      "Error: la relación «elements» ya existe\n",
      "\n"
     ]
    }
   ],
   "source": [
    "#CREAR TABLA ELEMENTS\n",
    "with open('sql_files/5_create_elements.sql', 'r') as file:\n",
    "    sql_query = file.read()\n",
    "\n",
    "try:\n",
    "    conn = psycopg2.connect(\n",
    "            dbname=DATABASE,\n",
    "            user=USER,\n",
    "            password=PASSWORD,\n",
    "            host=HOST,\n",
    "            port=PORT\n",
    "        )\n",
    "    cur = conn.cursor()\n",
    "    cur.execute(sql_query)\n",
    "    conn.commit()\n",
    "    conn.close()\n",
    "    cur.close()\n",
    "    print(\"Tabla creada exitósamente\")\n",
    "except Exception as e:\n",
    "    print(f\"Error: {e}\")"
   ]
  },
  {
   "cell_type": "code",
   "execution_count": 31,
   "metadata": {},
   "outputs": [
    {
     "name": "stdout",
     "output_type": "stream",
     "text": [
      "Error: la relación «flags» ya existe\n",
      "\n"
     ]
    }
   ],
   "source": [
    "#CREAR TABLA FLAGS\n",
    "with open('sql_files/7_create_flags.sql', 'r') as file:\n",
    "    sql_query = file.read()\n",
    "\n",
    "try:\n",
    "    conn = psycopg2.connect(\n",
    "            dbname=DATABASE,\n",
    "            user=USER,\n",
    "            password=PASSWORD,\n",
    "            host=HOST,\n",
    "            port=PORT\n",
    "        )\n",
    "    cur = conn.cursor()\n",
    "    cur.execute(sql_query)\n",
    "    conn.commit()\n",
    "    conn.close()\n",
    "    cur.close()\n",
    "    print(\"Tabla creada exitósamente\")\n",
    "except Exception as e:\n",
    "    print(f\"Error: {e}\")"
   ]
  },
  {
   "cell_type": "code",
   "execution_count": 18,
   "metadata": {},
   "outputs": [
    {
     "name": "stdout",
     "output_type": "stream",
     "text": [
      "{'encoding': 'utf-8', 'confidence': 0.99, 'language': ''}\n"
     ]
    }
   ],
   "source": [
    "import chardet\n",
    "\n",
    "# Detectar la codificación del archivo\n",
    "with open('sql_files/2_insert_crops.sql', 'rb') as file:\n",
    "    result = chardet.detect(file.read())\n",
    "\n",
    "print(result)"
   ]
  },
  {
   "cell_type": "code",
   "execution_count": 40,
   "metadata": {},
   "outputs": [
    {
     "name": "stdout",
     "output_type": "stream",
     "text": [
      "Tabla creada exitósamente\n"
     ]
    }
   ],
   "source": [
    "#INSERT TABLA ITEMS\n",
    "with open('sql_files/4_insert_items.sql', 'r', encoding='utf-8') as file:\n",
    "    sql_query = file.read()\n",
    "\n",
    "try:\n",
    "    conn = psycopg2.connect(\n",
    "            dbname=DATABASE,\n",
    "            user=USER,\n",
    "            password=PASSWORD,\n",
    "            host=HOST,\n",
    "            port=PORT\n",
    "        )\n",
    "    cur = conn.cursor()\n",
    "    cur.execute(sql_query)\n",
    "    conn.commit()\n",
    "    conn.close()\n",
    "    cur.close()\n",
    "    print(\"Tabla creada exitósamente\")\n",
    "except Exception as e:\n",
    "    print(f\"Error: {e}\")"
   ]
  },
  {
   "cell_type": "code",
   "execution_count": 42,
   "metadata": {},
   "outputs": [
    {
     "name": "stdout",
     "output_type": "stream",
     "text": [
      "Tabla creada exitósamente\n"
     ]
    }
   ],
   "source": [
    "#INSERT TABLA FLAGS\n",
    "with open('sql_files/8_insert_flags.sql', 'r', encoding='utf-8') as file:\n",
    "    sql_query = file.read()\n",
    "\n",
    "try:\n",
    "    conn = psycopg2.connect(\n",
    "            dbname=DATABASE,\n",
    "            user=USER,\n",
    "            password=PASSWORD,\n",
    "            host=HOST,\n",
    "            port=PORT\n",
    "        )\n",
    "    cur = conn.cursor()\n",
    "    cur.execute(sql_query)\n",
    "    conn.commit()\n",
    "    conn.close()\n",
    "    cur.close()\n",
    "    print(\"Tabla creada exitósamente\")\n",
    "except Exception as e:\n",
    "    print(f\"Error: {e}\")"
   ]
  },
  {
   "cell_type": "code",
   "execution_count": 45,
   "metadata": {},
   "outputs": [
    {
     "name": "stdout",
     "output_type": "stream",
     "text": [
      "Tabla creada exitósamente\n"
     ]
    }
   ],
   "source": [
    "#INSERT TABLA CROPS\n",
    "with open('sql_files/2_insert_crops.sql', 'r', encoding='utf-8') as file:\n",
    "    sql_query = file.read()\n",
    "\n",
    "try:\n",
    "    conn = psycopg2.connect(\n",
    "            dbname=DATABASE,\n",
    "            user=USER,\n",
    "            password=PASSWORD,\n",
    "            host=HOST,\n",
    "            port=PORT\n",
    "        )\n",
    "    cur = conn.cursor()\n",
    "    cur.execute(sql_query)\n",
    "    conn.commit()\n",
    "    conn.close()\n",
    "    cur.close()\n",
    "    print(\"Tabla creada exitósamente\")\n",
    "except Exception as e:\n",
    "    print(f\"Error: {e}\")"
   ]
  },
  {
   "cell_type": "code",
   "execution_count": null,
   "metadata": {},
   "outputs": [],
   "source": []
  }
 ],
 "metadata": {
  "kernelspec": {
   "display_name": "Python 3",
   "language": "python",
   "name": "python3"
  },
  "language_info": {
   "codemirror_mode": {
    "name": "ipython",
    "version": 3
   },
   "file_extension": ".py",
   "mimetype": "text/x-python",
   "name": "python",
   "nbconvert_exporter": "python",
   "pygments_lexer": "ipython3",
   "version": "3.12.3"
  }
 },
 "nbformat": 4,
 "nbformat_minor": 2
}
